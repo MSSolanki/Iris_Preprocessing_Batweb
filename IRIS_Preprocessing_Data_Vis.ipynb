{
 "cells": [
  {
   "cell_type": "code",
   "execution_count": 18,
   "id": "d06d07f8",
   "metadata": {},
   "outputs": [],
   "source": [
    "import pandas as pd\n",
    "import numpy as np\n",
    "import matplotlib.pyplot as plt\n",
    "import seaborn as sns\n",
    "%matplotlib inline\n",
    "\n",
    "import warnings\n",
    "warnings.filterwarnings('ignore')"
   ]
  },
  {
   "cell_type": "code",
   "execution_count": 19,
   "id": "3e20528b",
   "metadata": {},
   "outputs": [],
   "source": [
    "df = pd.read_csv('IRIS_PR.csv')"
   ]
  },
  {
   "cell_type": "code",
   "execution_count": null,
   "id": "8c1ebbb9",
   "metadata": {},
   "outputs": [],
   "source": [
    "df"
   ]
  },
  {
   "cell_type": "code",
   "execution_count": null,
   "id": "e9ff4008",
   "metadata": {},
   "outputs": [],
   "source": [
    "df.head()"
   ]
  },
  {
   "cell_type": "code",
   "execution_count": null,
   "id": "248490ef",
   "metadata": {},
   "outputs": [],
   "source": [
    "df.describe()"
   ]
  },
  {
   "cell_type": "code",
   "execution_count": null,
   "id": "b4ad4754",
   "metadata": {},
   "outputs": [],
   "source": [
    "df.describe(include='all')"
   ]
  },
  {
   "cell_type": "code",
   "execution_count": null,
   "id": "bd6e7d97",
   "metadata": {},
   "outputs": [],
   "source": [
    "df.info()"
   ]
  },
  {
   "cell_type": "code",
   "execution_count": null,
   "id": "3c3de8bf",
   "metadata": {},
   "outputs": [],
   "source": [
    "df['species'].value_counts()"
   ]
  },
  {
   "cell_type": "code",
   "execution_count": null,
   "id": "b443ab46",
   "metadata": {},
   "outputs": [],
   "source": [
    "df.shape"
   ]
  },
  {
   "cell_type": "code",
   "execution_count": null,
   "id": "a414e311",
   "metadata": {},
   "outputs": [],
   "source": [
    "df.columns"
   ]
  },
  {
   "cell_type": "code",
   "execution_count": null,
   "id": "7c67e1ce",
   "metadata": {},
   "outputs": [],
   "source": [
    "df.isna().sum()"
   ]
  },
  {
   "cell_type": "code",
   "execution_count": null,
   "id": "5e37a1e1",
   "metadata": {},
   "outputs": [],
   "source": [
    "df.species.unique()"
   ]
  },
  {
   "cell_type": "code",
   "execution_count": null,
   "id": "0c1efd09",
   "metadata": {},
   "outputs": [],
   "source": [
    "df.sepal_length.unique()"
   ]
  },
  {
   "cell_type": "code",
   "execution_count": null,
   "id": "254d0588",
   "metadata": {},
   "outputs": [],
   "source": [
    "df.sepal_width.unique()"
   ]
  },
  {
   "cell_type": "code",
   "execution_count": null,
   "id": "8532f07f",
   "metadata": {},
   "outputs": [],
   "source": [
    "df.petal_length.unique()"
   ]
  },
  {
   "cell_type": "code",
   "execution_count": null,
   "id": "15abf722",
   "metadata": {},
   "outputs": [],
   "source": [
    "df.petal_width.unique()"
   ]
  },
  {
   "cell_type": "code",
   "execution_count": null,
   "id": "a6c32a9d",
   "metadata": {},
   "outputs": [],
   "source": [
    "import matplotlib.pyplot as plt\n",
    "import seaborn as sns\n",
    "\n",
    "plt.figure(figsize=(8, 6))\n",
    "colors = ['red', 'purple', 'gray']\n",
    "sns.countplot(x='species', data=df, palette=colors)\n",
    "\n",
    "plt.show()"
   ]
  },
  {
   "cell_type": "code",
   "execution_count": null,
   "id": "f2109ee1",
   "metadata": {},
   "outputs": [],
   "source": [
    "df['sepal_length'].hist(color='green')"
   ]
  },
  {
   "cell_type": "code",
   "execution_count": null,
   "id": "0f445796",
   "metadata": {},
   "outputs": [],
   "source": [
    "df['sepal_width'].hist(color='brown')"
   ]
  },
  {
   "cell_type": "code",
   "execution_count": null,
   "id": "95534f17",
   "metadata": {},
   "outputs": [],
   "source": [
    "df['petal_length'].hist(color='pink')"
   ]
  },
  {
   "cell_type": "code",
   "execution_count": null,
   "id": "d2c647a7",
   "metadata": {},
   "outputs": [],
   "source": [
    "df['petal_width'].hist(color='red')"
   ]
  },
  {
   "cell_type": "code",
   "execution_count": null,
   "id": "de51bb52",
   "metadata": {},
   "outputs": [],
   "source": [
    "plt.figure(figsize=(15,8))\n",
    "sns.boxplot(x='species',y='sepal_length',data=df.sort_values('sepal_length',ascending=False))"
   ]
  },
  {
   "cell_type": "code",
   "execution_count": null,
   "id": "da8e8775",
   "metadata": {},
   "outputs": [],
   "source": [
    "df.plot(kind='scatter', x='sepal_width',y='sepal_length' , c='red')"
   ]
  },
  {
   "cell_type": "code",
   "execution_count": null,
   "id": "eea1133e",
   "metadata": {},
   "outputs": [],
   "source": [
    "sns.jointplot(x='sepal_width', y='sepal_length', data=df, size=5, color='red')"
   ]
  },
  {
   "cell_type": "code",
   "execution_count": null,
   "id": "9ef519e0",
   "metadata": {},
   "outputs": [],
   "source": [
    "sns.pairplot(df,hue='species',size=3)"
   ]
  },
  {
   "cell_type": "code",
   "execution_count": null,
   "id": "43221176",
   "metadata": {},
   "outputs": [],
   "source": [
    "plt.figure(figsize=(14, 8))\n",
    "for i, column in enumerate(df.columns[:-1]):\n",
    "    plt.subplot(2, 2, i + 1)\n",
    "    sns.violinplot(x='species', y=column, data=df, inner='quartile')\n",
    "    plt.title(f'{column} distribution by species')\n",
    "plt.show()"
   ]
  },
  {
   "cell_type": "code",
   "execution_count": null,
   "id": "e6596cc4",
   "metadata": {},
   "outputs": [],
   "source": [
    "plt.figure(figsize=(12, 8))\n",
    "for i, column in enumerate(df.columns[:-1]):\n",
    "    plt.subplot(2, 2, i + 1)\n",
    "    sns.swarmplot(x='species', y=column, data=df)\n",
    "    plt.title(f'{column} distribution by class')\n",
    "plt.show()"
   ]
  },
  {
   "cell_type": "code",
   "execution_count": null,
   "id": "de1d63f2",
   "metadata": {},
   "outputs": [],
   "source": [
    "# Set the overall figure size\n",
    "plt.figure(figsize=(15, 15))\n",
    "\n",
    "# Subplot 1\n",
    "plt.subplot(4, 2, 1)\n",
    "fig = df.boxplot(column='sepal_length', color='red')\n",
    "fig.set_title('Boxplot of Sepal Length')\n",
    "fig.set_ylabel('sepal_length')\n",
    "\n",
    "# Subplot 2\n",
    "plt.subplot(4, 2, 2)\n",
    "fig = df.boxplot(column='sepal_width', color='red')\n",
    "fig.set_title('Boxplot of Sepal Width')\n",
    "fig.set_ylabel('sepal_width')\n",
    "\n",
    "# Subplot 3\n",
    "plt.subplot(4, 2, 3)\n",
    "fig = df.boxplot(column='petal_length', color='red')\n",
    "fig.set_title('Boxplot of Petal Length')\n",
    "fig.set_ylabel('petal_length')\n",
    "\n",
    "# Subplot 4\n",
    "plt.subplot(4, 2, 4)\n",
    "fig = df.boxplot(column='petal_width', color='red')\n",
    "fig.set_title('Boxplot of Petal Width')\n",
    "fig.set_ylabel('petal_width')\n",
    "\n",
    "# Display the plot\n",
    "plt.show()"
   ]
  },
  {
   "cell_type": "code",
   "execution_count": null,
   "id": "f3fde7a3",
   "metadata": {},
   "outputs": [],
   "source": [
    "plt.figure(figsize=(24, 20))\n",
    "\n",
    "# Subplot 1\n",
    "plt.subplot(4, 2, 1)\n",
    "fig = df['sepal_length'].hist(bins=10, color='green')  # Set the color to green\n",
    "fig.set_xlabel('IP Mean')\n",
    "fig.set_title('Sepal Length')\n",
    "\n",
    "# Subplot 2\n",
    "plt.subplot(4, 2, 2)\n",
    "fig = df['sepal_width'].hist(bins=10, color='green')\n",
    "fig.set_xlabel('Sepal Width')\n",
    "fig.set_title('Sepal Width')\n",
    "\n",
    "# Subplot 3\n",
    "plt.subplot(4, 2, 3)\n",
    "fig = df['petal_length'].hist(bins=10, color='green')\n",
    "fig.set_xlabel('Petal Length')\n",
    "fig.set_title('Petal Length')\n",
    "\n",
    "# Subplot 4\n",
    "plt.subplot(4, 2, 4)\n",
    "fig = df['petal_width'].hist(bins=10, color='green')\n",
    "fig.set_xlabel('Petal Width')\n",
    "fig.set_title('Petal Width')\n",
    "\n",
    "plt.show()"
   ]
  }
 ],
 "metadata": {
  "kernelspec": {
   "display_name": "Python 3 (ipykernel)",
   "language": "python",
   "name": "python3"
  },
  "language_info": {
   "codemirror_mode": {
    "name": "ipython",
    "version": 3
   },
   "file_extension": ".py",
   "mimetype": "text/x-python",
   "name": "python",
   "nbconvert_exporter": "python",
   "pygments_lexer": "ipython3",
   "version": "3.9.12"
  }
 },
 "nbformat": 4,
 "nbformat_minor": 5
}
